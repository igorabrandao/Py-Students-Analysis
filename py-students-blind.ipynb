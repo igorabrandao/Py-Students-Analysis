{
 "cells": [
  {
   "cell_type": "markdown",
   "metadata": {},
   "source": [
    "# Programming Project - Unit 2,4\n",
    "*by Igor A. Brandão and Leandro Max*\n",
    "\n",
    "**Goals**\n",
    "The purpose of this project is explore the following:\n",
    "\n",
    "- Full content of the statistical part seen in the course;\n",
    "- Graphs generation;\n",
    "- Geolocation analysis and hypotheses should be explained in detail."
   ]
  },
  {
   "cell_type": "markdown",
   "metadata": {},
   "source": [
    "## Global Imports\n",
    "\n",
    "Import the necessary libraries to handle \n",
    "\n",
    "- Geocoding;\n",
    "- Maps;\n",
    "- File input;\n",
    "- Heatmap;\n",
    "- Bokeh charts;\n",
    "- Numpy library;\n",
    "- Tqdm progress bar"
   ]
  },
  {
   "cell_type": "code",
   "execution_count": null,
   "metadata": {},
   "outputs": [],
   "source": [
    "### Library necessary to run this IPython Notebook\n",
    "!pip install geocoder\n",
    "!pip install folium\n",
    "!pip install tqdm"
   ]
  },
  {
   "cell_type": "code",
   "execution_count": 11,
   "metadata": {
    "collapsed": true
   },
   "outputs": [],
   "source": [
    "# Import pandas\n",
    "import pandas as pd\n",
    "\n",
    "# Import google geocoder\n",
    "import geocoder as gc\n",
    "\n",
    "# Import numpy library\n",
    "import numpy as np\n",
    "\n",
    "# Import folium heatmap\n",
    "import folium\n",
    "from folium.plugins import HeatMap\n",
    "\n",
    "# Import tqdm progressing bar plugin\n",
    "from tqdm import tqdm\n",
    "\n",
    "# Import bokeh libraries\n",
    "from bokeh.charts import Bar, output_notebook, show\n",
    "from bokeh.layouts import row\n",
    "from bokeh.models import HoverTool\n",
    "from bokeh.charts.attributes import cat, color\n",
    "from bokeh.charts.operations import blend"
   ]
  },
  {
   "cell_type": "code",
   "execution_count": 10,
   "metadata": {},
   "outputs": [
    {
     "name": "stdout",
     "output_type": "stream",
     "text": [
      "['Sheet1']\n"
     ]
    }
   ],
   "source": [
    "# Import pandas\n",
    "import pandas as pd\n",
    "\n",
    "# Assign spreadsheet filename: file\n",
    "file = 'imd_student_blind.xlsx'\n",
    "\n",
    "# Load spreadsheet: xl\n",
    "xl = pd.ExcelFile(file)\n",
    "\n",
    "# Print sheet names\n",
    "print(xl.sheet_names)"
   ]
  },
  {
   "cell_type": "markdown",
   "metadata": {},
   "source": [
    "## Data printing"
   ]
  },
  {
   "cell_type": "code",
   "execution_count": 15,
   "metadata": {},
   "outputs": [
    {
     "data": {
      "text/html": [
       "<div>\n",
       "<table border=\"1\" class=\"dataframe\">\n",
       "  <thead>\n",
       "    <tr style=\"text-align: right;\">\n",
       "      <th></th>\n",
       "      <th>a_ID</th>\n",
       "      <th>CEP</th>\n",
       "      <th>ano_ingresso</th>\n",
       "      <th>periodo_ingresso</th>\n",
       "      <th>status</th>\n",
       "      <th>ano_disciplina</th>\n",
       "      <th>periodo_disciplina</th>\n",
       "      <th>nota</th>\n",
       "      <th>disciplina_ID</th>\n",
       "      <th>status.disciplina</th>\n",
       "    </tr>\n",
       "  </thead>\n",
       "  <tbody>\n",
       "    <tr>\n",
       "      <th>0</th>\n",
       "      <td>0</td>\n",
       "      <td>59015430</td>\n",
       "      <td>2014</td>\n",
       "      <td>1</td>\n",
       "      <td>CANCELADO</td>\n",
       "      <td>2014</td>\n",
       "      <td>2</td>\n",
       "      <td>2.6</td>\n",
       "      <td>0</td>\n",
       "      <td>Reprovado</td>\n",
       "    </tr>\n",
       "    <tr>\n",
       "      <th>1</th>\n",
       "      <td>0</td>\n",
       "      <td>59015430</td>\n",
       "      <td>2014</td>\n",
       "      <td>1</td>\n",
       "      <td>CANCELADO</td>\n",
       "      <td>2015</td>\n",
       "      <td>1</td>\n",
       "      <td>8.0</td>\n",
       "      <td>0</td>\n",
       "      <td>Aprovado</td>\n",
       "    </tr>\n",
       "    <tr>\n",
       "      <th>2</th>\n",
       "      <td>1</td>\n",
       "      <td>59073120</td>\n",
       "      <td>2014</td>\n",
       "      <td>1</td>\n",
       "      <td>CANCELADO</td>\n",
       "      <td>2014</td>\n",
       "      <td>2</td>\n",
       "      <td>0.1</td>\n",
       "      <td>0</td>\n",
       "      <td>Reprovado</td>\n",
       "    </tr>\n",
       "    <tr>\n",
       "      <th>3</th>\n",
       "      <td>2</td>\n",
       "      <td>59072580</td>\n",
       "      <td>2014</td>\n",
       "      <td>1</td>\n",
       "      <td>ATIVO</td>\n",
       "      <td>2014</td>\n",
       "      <td>2</td>\n",
       "      <td>6.1</td>\n",
       "      <td>0</td>\n",
       "      <td>Aprovado</td>\n",
       "    </tr>\n",
       "    <tr>\n",
       "      <th>4</th>\n",
       "      <td>3</td>\n",
       "      <td>59088150</td>\n",
       "      <td>2014</td>\n",
       "      <td>1</td>\n",
       "      <td>ATIVO</td>\n",
       "      <td>2014</td>\n",
       "      <td>1</td>\n",
       "      <td>3.0</td>\n",
       "      <td>0</td>\n",
       "      <td>Reprovado</td>\n",
       "    </tr>\n",
       "  </tbody>\n",
       "</table>\n",
       "</div>"
      ],
      "text/plain": [
       "   a_ID       CEP  ano_ingresso  periodo_ingresso     status  ano_disciplina  \\\n",
       "0     0  59015430          2014                 1  CANCELADO            2014   \n",
       "1     0  59015430          2014                 1  CANCELADO            2015   \n",
       "2     1  59073120          2014                 1  CANCELADO            2014   \n",
       "3     2  59072580          2014                 1      ATIVO            2014   \n",
       "4     3  59088150          2014                 1      ATIVO            2014   \n",
       "\n",
       "   periodo_disciplina  nota  disciplina_ID status.disciplina  \n",
       "0                   2   2.6              0         Reprovado  \n",
       "1                   1   8.0              0          Aprovado  \n",
       "2                   2   0.1              0         Reprovado  \n",
       "3                   2   6.1              0          Aprovado  \n",
       "4                   1   3.0              0         Reprovado  "
      ]
     },
     "execution_count": 15,
     "metadata": {},
     "output_type": "execute_result"
    }
   ],
   "source": [
    "# Load a sheet into a DataFrame by index: df\n",
    "df = xl.parse(0)\n",
    "\n",
    "# Print the head of the DataFrame df\n",
    "df.head()"
   ]
  },
  {
   "cell_type": "code",
   "execution_count": 6,
   "metadata": {},
   "outputs": [
    {
     "data": {
      "text/plain": [
       "Index(['a_ID', 'CEP', 'ano_ingresso', 'periodo_ingresso', 'status',\n",
       "       'ano_disciplina', 'periodo_disciplina', 'nota', 'disciplina_ID',\n",
       "       'status.disciplina'],\n",
       "      dtype='object')"
      ]
     },
     "execution_count": 6,
     "metadata": {},
     "output_type": "execute_result"
    }
   ],
   "source": [
    "df.columns"
   ]
  },
  {
   "cell_type": "code",
   "execution_count": 7,
   "metadata": {},
   "outputs": [
    {
     "data": {
      "text/plain": [
       "(4842, 10)"
      ]
     },
     "execution_count": 7,
     "metadata": {},
     "output_type": "execute_result"
    }
   ],
   "source": [
    "df.shape"
   ]
  },
  {
   "cell_type": "markdown",
   "metadata": {},
   "source": [
    "# Geolocation handler section\n",
    "\n",
    "Here in this section, we'll handle the geolocalization infos. The idea is converting the zipcode into latitude and longitude and export the new dataSet (as it requires a long time to perform this operation).\n",
    "\n",
    "After that, it'll be possible to pin the students position and generate the heatMap."
   ]
  },
  {
   "cell_type": "code",
   "execution_count": 16,
   "metadata": {},
   "outputs": [
    {
     "data": {
      "text/html": [
       "<div>\n",
       "<table border=\"1\" class=\"dataframe\">\n",
       "  <thead>\n",
       "    <tr style=\"text-align: right;\">\n",
       "      <th></th>\n",
       "      <th>a_ID</th>\n",
       "      <th>CEP</th>\n",
       "      <th>ano_ingresso</th>\n",
       "      <th>periodo_ingresso</th>\n",
       "      <th>status</th>\n",
       "      <th>ano_disciplina</th>\n",
       "      <th>periodo_disciplina</th>\n",
       "      <th>nota</th>\n",
       "      <th>disciplina_ID</th>\n",
       "      <th>status.disciplina</th>\n",
       "      <th>lat</th>\n",
       "      <th>long</th>\n",
       "    </tr>\n",
       "  </thead>\n",
       "  <tbody>\n",
       "    <tr>\n",
       "      <th>0</th>\n",
       "      <td>0</td>\n",
       "      <td>59015430</td>\n",
       "      <td>2014</td>\n",
       "      <td>1</td>\n",
       "      <td>CANCELADO</td>\n",
       "      <td>2014</td>\n",
       "      <td>2</td>\n",
       "      <td>2.6</td>\n",
       "      <td>0</td>\n",
       "      <td>Reprovado</td>\n",
       "      <td>0</td>\n",
       "      <td>0</td>\n",
       "    </tr>\n",
       "    <tr>\n",
       "      <th>1</th>\n",
       "      <td>0</td>\n",
       "      <td>59015430</td>\n",
       "      <td>2014</td>\n",
       "      <td>1</td>\n",
       "      <td>CANCELADO</td>\n",
       "      <td>2015</td>\n",
       "      <td>1</td>\n",
       "      <td>8.0</td>\n",
       "      <td>0</td>\n",
       "      <td>Aprovado</td>\n",
       "      <td>0</td>\n",
       "      <td>0</td>\n",
       "    </tr>\n",
       "    <tr>\n",
       "      <th>2</th>\n",
       "      <td>1</td>\n",
       "      <td>59073120</td>\n",
       "      <td>2014</td>\n",
       "      <td>1</td>\n",
       "      <td>CANCELADO</td>\n",
       "      <td>2014</td>\n",
       "      <td>2</td>\n",
       "      <td>0.1</td>\n",
       "      <td>0</td>\n",
       "      <td>Reprovado</td>\n",
       "      <td>0</td>\n",
       "      <td>0</td>\n",
       "    </tr>\n",
       "    <tr>\n",
       "      <th>3</th>\n",
       "      <td>2</td>\n",
       "      <td>59072580</td>\n",
       "      <td>2014</td>\n",
       "      <td>1</td>\n",
       "      <td>ATIVO</td>\n",
       "      <td>2014</td>\n",
       "      <td>2</td>\n",
       "      <td>6.1</td>\n",
       "      <td>0</td>\n",
       "      <td>Aprovado</td>\n",
       "      <td>0</td>\n",
       "      <td>0</td>\n",
       "    </tr>\n",
       "    <tr>\n",
       "      <th>4</th>\n",
       "      <td>3</td>\n",
       "      <td>59088150</td>\n",
       "      <td>2014</td>\n",
       "      <td>1</td>\n",
       "      <td>ATIVO</td>\n",
       "      <td>2014</td>\n",
       "      <td>1</td>\n",
       "      <td>3.0</td>\n",
       "      <td>0</td>\n",
       "      <td>Reprovado</td>\n",
       "      <td>0</td>\n",
       "      <td>0</td>\n",
       "    </tr>\n",
       "  </tbody>\n",
       "</table>\n",
       "</div>"
      ],
      "text/plain": [
       "   a_ID       CEP  ano_ingresso  periodo_ingresso     status  ano_disciplina  \\\n",
       "0     0  59015430          2014                 1  CANCELADO            2014   \n",
       "1     0  59015430          2014                 1  CANCELADO            2015   \n",
       "2     1  59073120          2014                 1  CANCELADO            2014   \n",
       "3     2  59072580          2014                 1      ATIVO            2014   \n",
       "4     3  59088150          2014                 1      ATIVO            2014   \n",
       "\n",
       "   periodo_disciplina  nota  disciplina_ID status.disciplina  lat  long  \n",
       "0                   2   2.6              0         Reprovado    0     0  \n",
       "1                   1   8.0              0          Aprovado    0     0  \n",
       "2                   2   0.1              0         Reprovado    0     0  \n",
       "3                   2   6.1              0          Aprovado    0     0  \n",
       "4                   1   3.0              0         Reprovado    0     0  "
      ]
     },
     "execution_count": 16,
     "metadata": {},
     "output_type": "execute_result"
    }
   ],
   "source": [
    "# df[\"GeoCod\"] = df[\"CEP\"]\n",
    "df['lat'], df['long'] = [0, 0]\n",
    "\n",
    "# Print new df\n",
    "df.head()"
   ]
  },
  {
   "cell_type": "code",
   "execution_count": null,
   "metadata": {},
   "outputs": [
    {
     "name": "stderr",
     "output_type": "stream",
     "text": [
      "\n",
      "  0%|          | 0/4842 [00:00<?, ?it/s]\u001b[A\n",
      "  0%|          | 1/4842 [00:00<36:28,  2.21it/s]\u001b[A\n",
      "  0%|          | 2/4842 [00:00<36:22,  2.22it/s]\u001b[A\n",
      "  0%|          | 3/4842 [00:01<38:45,  2.08it/s]\u001b[A\n",
      "  0%|          | 4/4842 [00:01<38:09,  2.11it/s]\u001b[A\n",
      "  0%|          | 5/4842 [00:02<38:25,  2.10it/s]\u001b[A\n",
      "  0%|          | 6/4842 [00:02<38:59,  2.07it/s]\u001b[A\n",
      "  0%|          | 7/4842 [00:03<39:05,  2.06it/s]\u001b[A\n",
      "  0%|          | 8/4842 [00:03<38:47,  2.08it/s]\u001b[A\n",
      "  0%|          | 9/4842 [00:04<38:29,  2.09it/s]\u001b[A\n",
      "  0%|          | 10/4842 [00:04<38:21,  2.10it/s]\u001b[A\n",
      "  0%|          | 11/4842 [00:05<37:47,  2.13it/s]\u001b[A\n",
      " 50%|█████     | 2424/4842 [24:04<19:28,  2.07it/s]  "
     ]
    }
   ],
   "source": [
    "# Retrieve the latitude and longitute related to each student\n",
    "for i in tqdm(range(len(df))):\n",
    "    g = gc.google(df.loc[i,'a_ID'])\n",
    "    if g.lat == None:\n",
    "        str = df.loc[i,'CEP']\n",
    "        g = gc.google(str)\n",
    "    df.ix[i,'lat'] = g.lat\n",
    "    df.ix[i,'long'] = g.lng\n",
    "print('Geocoding complete!')"
   ]
  },
  {
   "cell_type": "code",
   "execution_count": null,
   "metadata": {},
   "outputs": [],
   "source": [
    "# Print df with latitude and longitude\n",
    "df.head()\n",
    "\n",
    "# Export the new dataSet to csv\n",
    "df.to_csv('py-students-blind-with-lat-long.csv', encoding=\"utf-8\")"
   ]
  },
  {
   "cell_type": "code",
   "execution_count": null,
   "metadata": {
    "collapsed": true
   },
   "outputs": [],
   "source": [
    "# Read the generate csv\n",
    "geodata1 = pd.read_csv('py-students-blind-with-lat-long.csv', encoding=\"utf-8\", index_col=0)"
   ]
  },
  {
   "cell_type": "code",
   "execution_count": null,
   "metadata": {
    "collapsed": true
   },
   "outputs": [],
   "source": [
    "# Retrieve the data related to geolocalization\n",
    "geodata = geodata1.filter(['a_ID','lat','long'], axis=1)\n",
    "geodata = geodata.rename(columns = {'a_ID':'Aluno'})\n",
    "\n",
    "# Reset the index\n",
    "geodata = geodata.reset_index()\n",
    "\n",
    "# Remove the the previous index\n",
    "geodata.drop(geodata.columns[0], axis=1, inplace=True)\n",
    "geodata.head()"
   ]
  },
  {
   "cell_type": "markdown",
   "metadata": {},
   "source": [
    "## Pin map\n",
    "\n",
    "The idea here is generating a map with pinnings indicating the student location"
   ]
  },
  {
   "cell_type": "code",
   "execution_count": null,
   "metadata": {
    "collapsed": true
   },
   "outputs": [],
   "source": [
    "# Set map center and zoom level\n",
    "mapc = [-5.788, -35.202]\n",
    "zoom = 11\n",
    "\n",
    "# Create map object\n",
    "map_osm = folium.Map(location=mapc, zoom_start=zoom)\n",
    "\n",
    "# Plot each of the locations that we geocoded\n",
    "for j in tqdm(range(len(geodata))):\n",
    "    folium.Marker([geodata.ix[j,'lat'], geodata.ix[j,'long']],\n",
    "                  #popup=(geodata.ix[j,'Unidade'])\n",
    "                 ).add_to(map_osm)\n",
    "# Show the map\n",
    "map_osm"
   ]
  },
  {
   "cell_type": "markdown",
   "metadata": {},
   "source": [
    "## Heatmap map\n",
    "\n",
    "In order to see in a properly way the students concentration in Natal, we'll generate a hetmap to demonstrate that using colors.\n",
    "\n",
    "Cold colors represent low concentration of students, and hot colors indicate high concentrations."
   ]
  },
  {
   "cell_type": "code",
   "execution_count": null,
   "metadata": {
    "collapsed": true
   },
   "outputs": [],
   "source": [
    "# Cound the number of students by zipcode\n",
    "dataFinal = pd.DataFrame(geodata.groupby([\"CEP\"])['Count'].count()).reset_index()\n",
    "\n",
    "# Print the dataSet head\n",
    "dataFinal.head()"
   ]
  },
  {
   "cell_type": "code",
   "execution_count": null,
   "metadata": {
    "collapsed": true
   },
   "outputs": [],
   "source": [
    "# Retrieve the latitude and longitude\n",
    "dataFinal['lat'], dataFinal['long'] = [0, 0]\n",
    "\n",
    "for i in tqdm(range(len(dataFinal))):\n",
    "    str = dataFinal.loc[i,'CEP']\n",
    "    g = gc.google(str)\n",
    "    dataFinal.ix[i,'lat'] = g.lat\n",
    "    dataFinal.ix[i,'long'] = g.lng\n",
    "print('Geocoding complete!')\n",
    "dataFinal"
   ]
  },
  {
   "cell_type": "code",
   "execution_count": null,
   "metadata": {
    "collapsed": true
   },
   "outputs": [],
   "source": [
    "# Set map center and zoom level\n",
    "mapc = [-5.788, -35.202]\n",
    "zoom = 11\n",
    "\n",
    "# Initialize the coordinates array\n",
    "coordinates = []\n",
    "\n",
    "# Add the coordinates to the coordinate\n",
    "for i in range(len(dataFinal)):\n",
    "    # eliminate items with'nan' element\n",
    "    if all(~np.isnan([dataFinal.ix[i,'lat'], dataFinal.ix[i,'long'], dataFinal.ix[i,'Count']])):\n",
    "        coordinates.append([dataFinal.ix[i,'lat'], dataFinal.ix[i,'long'], dataFinal.ix[i,'Count']])\n",
    "\n",
    "# Create map object\n",
    "htMap = folium.Map(location=mapc, zoom_start=zoom)\n",
    "\n",
    "# Append the coordinates to the heatMap\n",
    "HeatMap(coordinates).add_to(htMap)\n",
    "\n",
    "# Print the heatMap\n",
    "htMap"
   ]
  }
 ],
 "metadata": {
  "kernelspec": {
   "display_name": "Python 3",
   "language": "python",
   "name": "python3"
  },
  "language_info": {
   "codemirror_mode": {
    "name": "ipython",
    "version": 3
   },
   "file_extension": ".py",
   "mimetype": "text/x-python",
   "name": "python",
   "nbconvert_exporter": "python",
   "pygments_lexer": "ipython3",
   "version": "3.6.0"
  }
 },
 "nbformat": 4,
 "nbformat_minor": 2
}
